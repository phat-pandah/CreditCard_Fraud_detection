{
 "cells": [
  {
   "cell_type": "code",
   "execution_count": 2,
   "metadata": {},
   "outputs": [
    {
     "name": "stdout",
     "output_type": "stream",
     "text": [
      "Import success!!!\n"
     ]
    }
   ],
   "source": [
    "# Import packages\r\n",
    "import pandas as pd \r\n",
    "import numpy as np\r\n",
    "import matplotlib.pyplot as plt \r\n",
    "import itertools\r\n",
    "\r\n",
    "from sklearn.preprocessing import StandardScaler # data normalization\r\n",
    "from sklearn.model_selection import train_test_split # data split\r\n",
    "from sklearn.tree import DecisionTreeClassifier # Decision tree algorithm\r\n",
    "from sklearn.neighbors import KNeighborsClassifier # KNN algorithm\r\n",
    "from sklearn.linear_model import LogisticRegression # Logistic regression algorithm\r\n",
    "from sklearn.svm import SVC # SVM algorithm\r\n",
    "from sklearn.ensemble import RandomForestClassifier # Random forest tree algorithm\r\n",
    "from xgboost import XGBClassifier # XGBoost algorithm\r\n",
    "\r\n",
    "from sklearn.metrics import confusion_matrix # evaluation metric\r\n",
    "from sklearn.metrics import accuracy_score # evaluation metric\r\n",
    "from sklearn.metrics import f1_score # evaluation metric\r\n",
    "\r\n",
    "print('Import success!!!')"
   ]
  },
  {
   "cell_type": "code",
   "execution_count": 3,
   "metadata": {},
   "outputs": [
    {
     "data": {
      "text/html": [
       "<div>\n",
       "<style scoped>\n",
       "    .dataframe tbody tr th:only-of-type {\n",
       "        vertical-align: middle;\n",
       "    }\n",
       "\n",
       "    .dataframe tbody tr th {\n",
       "        vertical-align: top;\n",
       "    }\n",
       "\n",
       "    .dataframe thead th {\n",
       "        text-align: right;\n",
       "    }\n",
       "</style>\n",
       "<table border=\"1\" class=\"dataframe\">\n",
       "  <thead>\n",
       "    <tr style=\"text-align: right;\">\n",
       "      <th></th>\n",
       "      <th>V1</th>\n",
       "      <th>V2</th>\n",
       "      <th>V3</th>\n",
       "      <th>V4</th>\n",
       "      <th>V5</th>\n",
       "      <th>V6</th>\n",
       "      <th>V7</th>\n",
       "      <th>V8</th>\n",
       "      <th>V9</th>\n",
       "      <th>V10</th>\n",
       "      <th>...</th>\n",
       "      <th>V21</th>\n",
       "      <th>V22</th>\n",
       "      <th>V23</th>\n",
       "      <th>V24</th>\n",
       "      <th>V25</th>\n",
       "      <th>V26</th>\n",
       "      <th>V27</th>\n",
       "      <th>V28</th>\n",
       "      <th>Amount</th>\n",
       "      <th>Class</th>\n",
       "    </tr>\n",
       "  </thead>\n",
       "  <tbody>\n",
       "    <tr>\n",
       "      <th>0</th>\n",
       "      <td>-1.359807</td>\n",
       "      <td>-0.072781</td>\n",
       "      <td>2.536347</td>\n",
       "      <td>1.378155</td>\n",
       "      <td>-0.338321</td>\n",
       "      <td>0.462388</td>\n",
       "      <td>0.239599</td>\n",
       "      <td>0.098698</td>\n",
       "      <td>0.363787</td>\n",
       "      <td>0.090794</td>\n",
       "      <td>...</td>\n",
       "      <td>-0.018307</td>\n",
       "      <td>0.277838</td>\n",
       "      <td>-0.110474</td>\n",
       "      <td>0.066928</td>\n",
       "      <td>0.128539</td>\n",
       "      <td>-0.189115</td>\n",
       "      <td>0.133558</td>\n",
       "      <td>-0.021053</td>\n",
       "      <td>149.62</td>\n",
       "      <td>0</td>\n",
       "    </tr>\n",
       "    <tr>\n",
       "      <th>1</th>\n",
       "      <td>1.191857</td>\n",
       "      <td>0.266151</td>\n",
       "      <td>0.166480</td>\n",
       "      <td>0.448154</td>\n",
       "      <td>0.060018</td>\n",
       "      <td>-0.082361</td>\n",
       "      <td>-0.078803</td>\n",
       "      <td>0.085102</td>\n",
       "      <td>-0.255425</td>\n",
       "      <td>-0.166974</td>\n",
       "      <td>...</td>\n",
       "      <td>-0.225775</td>\n",
       "      <td>-0.638672</td>\n",
       "      <td>0.101288</td>\n",
       "      <td>-0.339846</td>\n",
       "      <td>0.167170</td>\n",
       "      <td>0.125895</td>\n",
       "      <td>-0.008983</td>\n",
       "      <td>0.014724</td>\n",
       "      <td>2.69</td>\n",
       "      <td>0</td>\n",
       "    </tr>\n",
       "    <tr>\n",
       "      <th>2</th>\n",
       "      <td>-1.358354</td>\n",
       "      <td>-1.340163</td>\n",
       "      <td>1.773209</td>\n",
       "      <td>0.379780</td>\n",
       "      <td>-0.503198</td>\n",
       "      <td>1.800499</td>\n",
       "      <td>0.791461</td>\n",
       "      <td>0.247676</td>\n",
       "      <td>-1.514654</td>\n",
       "      <td>0.207643</td>\n",
       "      <td>...</td>\n",
       "      <td>0.247998</td>\n",
       "      <td>0.771679</td>\n",
       "      <td>0.909412</td>\n",
       "      <td>-0.689281</td>\n",
       "      <td>-0.327642</td>\n",
       "      <td>-0.139097</td>\n",
       "      <td>-0.055353</td>\n",
       "      <td>-0.059752</td>\n",
       "      <td>378.66</td>\n",
       "      <td>0</td>\n",
       "    </tr>\n",
       "    <tr>\n",
       "      <th>3</th>\n",
       "      <td>-0.966272</td>\n",
       "      <td>-0.185226</td>\n",
       "      <td>1.792993</td>\n",
       "      <td>-0.863291</td>\n",
       "      <td>-0.010309</td>\n",
       "      <td>1.247203</td>\n",
       "      <td>0.237609</td>\n",
       "      <td>0.377436</td>\n",
       "      <td>-1.387024</td>\n",
       "      <td>-0.054952</td>\n",
       "      <td>...</td>\n",
       "      <td>-0.108300</td>\n",
       "      <td>0.005274</td>\n",
       "      <td>-0.190321</td>\n",
       "      <td>-1.175575</td>\n",
       "      <td>0.647376</td>\n",
       "      <td>-0.221929</td>\n",
       "      <td>0.062723</td>\n",
       "      <td>0.061458</td>\n",
       "      <td>123.50</td>\n",
       "      <td>0</td>\n",
       "    </tr>\n",
       "    <tr>\n",
       "      <th>4</th>\n",
       "      <td>-1.158233</td>\n",
       "      <td>0.877737</td>\n",
       "      <td>1.548718</td>\n",
       "      <td>0.403034</td>\n",
       "      <td>-0.407193</td>\n",
       "      <td>0.095921</td>\n",
       "      <td>0.592941</td>\n",
       "      <td>-0.270533</td>\n",
       "      <td>0.817739</td>\n",
       "      <td>0.753074</td>\n",
       "      <td>...</td>\n",
       "      <td>-0.009431</td>\n",
       "      <td>0.798278</td>\n",
       "      <td>-0.137458</td>\n",
       "      <td>0.141267</td>\n",
       "      <td>-0.206010</td>\n",
       "      <td>0.502292</td>\n",
       "      <td>0.219422</td>\n",
       "      <td>0.215153</td>\n",
       "      <td>69.99</td>\n",
       "      <td>0</td>\n",
       "    </tr>\n",
       "  </tbody>\n",
       "</table>\n",
       "<p>5 rows × 30 columns</p>\n",
       "</div>"
      ],
      "text/plain": [
       "         V1        V2        V3        V4        V5        V6        V7  \\\n",
       "0 -1.359807 -0.072781  2.536347  1.378155 -0.338321  0.462388  0.239599   \n",
       "1  1.191857  0.266151  0.166480  0.448154  0.060018 -0.082361 -0.078803   \n",
       "2 -1.358354 -1.340163  1.773209  0.379780 -0.503198  1.800499  0.791461   \n",
       "3 -0.966272 -0.185226  1.792993 -0.863291 -0.010309  1.247203  0.237609   \n",
       "4 -1.158233  0.877737  1.548718  0.403034 -0.407193  0.095921  0.592941   \n",
       "\n",
       "         V8        V9       V10  ...       V21       V22       V23       V24  \\\n",
       "0  0.098698  0.363787  0.090794  ... -0.018307  0.277838 -0.110474  0.066928   \n",
       "1  0.085102 -0.255425 -0.166974  ... -0.225775 -0.638672  0.101288 -0.339846   \n",
       "2  0.247676 -1.514654  0.207643  ...  0.247998  0.771679  0.909412 -0.689281   \n",
       "3  0.377436 -1.387024 -0.054952  ... -0.108300  0.005274 -0.190321 -1.175575   \n",
       "4 -0.270533  0.817739  0.753074  ... -0.009431  0.798278 -0.137458  0.141267   \n",
       "\n",
       "        V25       V26       V27       V28  Amount  Class  \n",
       "0  0.128539 -0.189115  0.133558 -0.021053  149.62      0  \n",
       "1  0.167170  0.125895 -0.008983  0.014724    2.69      0  \n",
       "2 -0.327642 -0.139097 -0.055353 -0.059752  378.66      0  \n",
       "3  0.647376 -0.221929  0.062723  0.061458  123.50      0  \n",
       "4 -0.206010  0.502292  0.219422  0.215153   69.99      0  \n",
       "\n",
       "[5 rows x 30 columns]"
      ]
     },
     "execution_count": 3,
     "metadata": {},
     "output_type": "execute_result"
    }
   ],
   "source": [
    "# Import Data\r\n",
    "\r\n",
    "df = pd.read_csv('creditcard.csv')\r\n",
    "df.drop('Time', axis=1, inplace = True)\r\n",
    "df.head()"
   ]
  },
  {
   "cell_type": "code",
   "execution_count": 4,
   "metadata": {},
   "outputs": [
    {
     "name": "stdout",
     "output_type": "stream",
     "text": [
      "EDA\n",
      "--------------------------------\n",
      "Total number of cases = 284807\n",
      "Non fraudulant cases = 284315\n",
      "fraudulant cases = 492\n",
      "Percentage of fraudulant cases = 0.17\n",
      "--------------------------------\n",
      "\n",
      "Statistics of deach case\n",
      "--------------------------------\n",
      "Not-fraudulant:\n",
      "count    284315.000000\n",
      "mean         88.291022\n",
      "std         250.105092\n",
      "min           0.000000\n",
      "25%           5.650000\n",
      "50%          22.000000\n",
      "75%          77.050000\n",
      "max       25691.160000\n",
      "Name: Amount, dtype: float64\n",
      "\n",
      "Fraudulant: \n",
      "count     492.000000\n",
      "mean      122.211321\n",
      "std       256.683288\n",
      "min         0.000000\n",
      "25%         1.000000\n",
      "50%         9.250000\n",
      "75%       105.890000\n",
      "max      2125.870000\n",
      "Name: Amount, dtype: float64\n",
      "--------------------------------\n"
     ]
    }
   ],
   "source": [
    "num_cases = len(df)\r\n",
    "non_fraud_count = len(df[df.Class == 0])\r\n",
    "fraud_count = len(df[df.Class==1])\r\n",
    "percent_fraud = round(fraud_count / non_fraud_count * 100,2)\r\n",
    "non_fraud = df[df.Class == 0]\r\n",
    "fraud = df[df.Class == 1]\r\n",
    "\r\n",
    "print('EDA')\r\n",
    "print('--------------------------------')\r\n",
    "print(f'Total number of cases = {num_cases}')\r\n",
    "print(f'Non fraudulant cases = {non_fraud_count}')\r\n",
    "print(f'fraudulant cases = {fraud_count}')\r\n",
    "print(f'Percentage of fraudulant cases = {percent_fraud}')\r\n",
    "print('--------------------------------')\r\n",
    "print()\r\n",
    "print('Statistics of deach case')\r\n",
    "print('--------------------------------')\r\n",
    "print(f'Not-fraudulant:')\r\n",
    "print(non_fraud.Amount.describe())\r\n",
    "print()\r\n",
    "print('Fraudulant: ')\r\n",
    "print(fraud.Amount.describe())\r\n",
    "print('--------------------------------')"
   ]
  },
  {
   "cell_type": "code",
   "execution_count": 5,
   "metadata": {},
   "outputs": [
    {
     "data": {
      "text/plain": [
       "0    0.244964\n",
       "1   -0.342475\n",
       "2    1.160686\n",
       "3    0.140534\n",
       "4   -0.073403\n",
       "Name: Amount, dtype: float64"
      ]
     },
     "execution_count": 5,
     "metadata": {},
     "output_type": "execute_result"
    }
   ],
   "source": [
    "# Normalize the data\r\n",
    "# This data set has 2 features: Time and Amount\r\n",
    "# We won't concern ourselves with Time\r\n",
    "# Amount is the transaction amount\r\n",
    "\r\n",
    "SC = StandardScaler()\r\n",
    "amount = df['Amount'].values\r\n",
    "df['Amount'] = SC.fit_transform(amount.reshape(-1,1))\r\n",
    "\r\n",
    "df['Amount'].head()"
   ]
  },
  {
   "cell_type": "code",
   "execution_count": 6,
   "metadata": {},
   "outputs": [],
   "source": [
    "# Feature Selection \r\n",
    "\r\n",
    "X = df.drop('Class', axis = 1).values\r\n",
    "y = df['Class'].values\r\n",
    "\r\n",
    "X_train, X_test, y_train, y_test = train_test_split(X, y, test_size = 0.2, random_state = 0)"
   ]
  },
  {
   "cell_type": "markdown",
   "metadata": {},
   "source": [
    "The Goal is to detect fraud, i.e to classify transactions as fraudulant or non-fraudulant.<br>\r\n",
    "We will be comparinng 6 models to see which perferms best; \r\n",
    "    - Desciion Tree<Br>\r\n",
    "    - K-Nearest Neighbors<Br>\r\n",
    "    - Logistic Regression<Br>\r\n",
    "    - Support Vectir Machine<Br>\r\n",
    "    - Random Forest<Br>\r\n",
    "    - XGBoost<Br>"
   ]
  },
  {
   "cell_type": "code",
   "execution_count": 10,
   "metadata": {},
   "outputs": [],
   "source": [
    "# The 6 models take 15 mins to compile"
   ]
  },
  {
   "cell_type": "code",
   "execution_count": 9,
   "metadata": {},
   "outputs": [
    {
     "name": "stderr",
     "output_type": "stream",
     "text": [
      "C:\\Users\\Thomas\\anaconda3\\lib\\site-packages\\xgboost\\sklearn.py:1146: UserWarning: The use of label encoder in XGBClassifier is deprecated and will be removed in a future release. To remove this warning, do the following: 1) Pass option use_label_encoder=False when constructing XGBClassifier object; and 2) Encode your labels (y) as integers starting with 0, i.e. 0, 1, 2, ..., [num_class - 1].\n",
      "  warnings.warn(label_encoder_deprecation_msg, UserWarning)\n"
     ]
    },
    {
     "name": "stdout",
     "output_type": "stream",
     "text": [
      "[16:23:29] WARNING: C:/Users/Administrator/workspace/xgboost-win64_release_1.4.0/src/learner.cc:1095: Starting in XGBoost 1.3.0, the default evaluation metric used with the objective 'binary:logistic' was changed from 'error' to 'logloss'. Explicitly set eval_metric if you'd like to restore the old behavior.\n"
     ]
    }
   ],
   "source": [
    "#Descision Tree\r\n",
    "tree_model = DecisionTreeClassifier(max_depth = 4, criterion='entropy')\r\n",
    "tree_model.fit(X_train, y_train)\r\n",
    "tree_pred = tree_model.predict(X_test)\r\n",
    "\r\n",
    "# Knn\r\n",
    "n = 5\r\n",
    "knn = KNeighborsClassifier(n_neighbors= n)\r\n",
    "knn.fit(X_train, y_train)\r\n",
    "knn_pred = knn.predict(X_test)\r\n",
    "\r\n",
    "# Log reg\r\n",
    "lr = LogisticRegression()\r\n",
    "lr.fit(X_train, y_train)\r\n",
    "lr_pred = lr.predict(X_test)\r\n",
    "\r\n",
    "# SVM\r\n",
    "svm = SVC()\r\n",
    "svm.fit(X_train, y_train)\r\n",
    "svm_pred = svm.predict(X_test)\r\n",
    "\r\n",
    "# Random Forest\r\n",
    "rf = RandomForestClassifier(max_depth = 4)\r\n",
    "rf.fit(X_train, y_train)\r\n",
    "rf.pred = rf.predict(X_test)\r\n",
    "\r\n",
    "#XGBoost\r\n",
    "xgb = XGBClassifier(max_depth = 4)\r\n",
    "xgb.fit(X_train, y_train)\r\n",
    "xgb_pred = xgb.predict(X_test)"
   ]
  },
  {
   "cell_type": "code",
   "execution_count": 13,
   "metadata": {},
   "outputs": [
    {
     "name": "stdout",
     "output_type": "stream",
     "text": [
      "Accuracy Score of each Model\n",
      "----------------------------------\n",
      "Descicion tree      : 0.9993679997191109\n",
      "Knn                 : 0.9995259997893332\n",
      "Logistic Regression : 0.9991924440855307\n",
      "SVM                 : 0.9993153330290369\n",
      "Random Forest       : 0.9993679997191109\n",
      "XGBoost             : 0.9994908886626171\n"
     ]
    }
   ],
   "source": [
    "print('Accuracy Score of each Model')\r\n",
    "print('----------------------------------')\r\n",
    "print(f'Descicion tree      : {accuracy_score(y_test, tree_pred)}')\r\n",
    "print(f'Knn                 : {accuracy_score(y_test, knn_pred)}')\r\n",
    "print(f'Logistic Regression : {accuracy_score(y_test, lr_pred)}')\r\n",
    "print(f'SVM                 : {accuracy_score(y_test, svm_pred)}')\r\n",
    "print(f'Random Forest       : {accuracy_score(y_test, tree_pred)}')\r\n",
    "print(f'XGBoost             : {accuracy_score(y_test, xgb_pred)}')\r\n"
   ]
  },
  {
   "cell_type": "markdown",
   "metadata": {},
   "source": [
    "We See that KNN model performed the best and Logistic regression the worst. However, each is model is at least 99% accurate, which is very good. So we could use any of these models to classify the data as fraudulant or not. We can look at the confsion matrix for the KNN model as well as the logistic regression model to get an idea of how good/bad they were."
   ]
  },
  {
   "cell_type": "code",
   "execution_count": 16,
   "metadata": {},
   "outputs": [],
   "source": [
    "knn_matrix = confusion_matrix(y_test, knn_pred, labels=[0,1])\r\n",
    "lr_matrix = confusion_matrix(y_test, lr_pred, labels=[0,1])\r\n"
   ]
  },
  {
   "cell_type": "code",
   "execution_count": 23,
   "metadata": {},
   "outputs": [],
   "source": [
    "def plot_confusion_matrix(cm, classes, title, normalize = False, cmap = plt.cm.Blues):\r\n",
    "    title = 'Confusion Matrix of {}'.format(title)\r\n",
    "    if normalize:\r\n",
    "        cm = cm.astype(float) / cm.sum(axis=1)[:, np.newaxis]\r\n",
    "\r\n",
    "    plt.imshow(cm, interpolation = 'nearest', cmap = cmap)\r\n",
    "    plt.title(title)\r\n",
    "    plt.colorbar()\r\n",
    "    tick_marks = np.arange(len(classes))\r\n",
    "    plt.xticks(tick_marks, classes, rotation = 45)\r\n",
    "    plt.yticks(tick_marks, classes)\r\n",
    "\r\n",
    "    fmt = '.2f' if normalize else 'd'\r\n",
    "    thresh = cm.max() / 2.\r\n",
    "    for i, j in itertools.product(range(cm.shape[0]), range(cm.shape[1])):\r\n",
    "        plt.text(j, i, format(cm[i, j], fmt),\r\n",
    "                 horizontalalignment = 'center',\r\n",
    "                 color = 'white' if cm[i, j] > thresh else 'black')\r\n",
    "\r\n",
    "    plt.tight_layout()\r\n",
    "    plt.ylabel('True label')\r\n",
    "    plt.xlabel('Predicted label')\r\n",
    "    "
   ]
  },
  {
   "cell_type": "code",
   "execution_count": 26,
   "metadata": {},
   "outputs": [
    {
     "data": {
      "image/png": "[encoded data removed]",
      "text/plain": [
       "<Figure size 576x576 with 2 Axes>"
      ]
     },
     "metadata": {
      "needs_background": "light"
     },
     "output_type": "display_data"
    },
    {
     "data": {
      "image/png": "[encoded data removed]",
      "text/plain": [
       "<Figure size 576x576 with 2 Axes>"
      ]
     },
     "metadata": {
      "needs_background": "light"
     },
     "output_type": "display_data"
    }
   ],
   "source": [
    "plt.rcParams['figure.figsize'] = (8, 8)\r\n",
    "plt.close(1);plt.figure(1)\r\n",
    "plot_confusion_matrix(knn_matrix,classes = ['Non-Default(0)','Default(1)'], \r\n",
    "                            normalize = False, title = 'KNN')\r\n",
    "plt.show()\r\n",
    "    \r\n",
    "plt.close(2);plt.figure(2)\r\n",
    "plot_confusion_matrix(lr_matrix,classes = ['Non-Default(0)','Default(1)'], \r\n",
    "                            normalize = False, title = 'Logistic Regression')\r\n",
    "plt.show()"
   ]
  },
  {
   "cell_type": "markdown",
   "metadata": {},
   "source": [
    "From the confusion matrix of KNN and Lorgistic Regression, we see that they perfom almost identically when predicting non-fraudulant transactions.\r\n",
    "However the preformence of both models differ a bit more when predicting fraudulant transactions. The knn correctly predicted 17 more fraudulant transactions than Logistic Regression. <br><br>\r\n",
    "### In Conclusion\r\n",
    "The 6 models that were compared all performed with at least 99% accuracy. The one that came on top however was the KNN model, and the least performing one was Logistic Regression. It is worth noting that no hyperparameter tuning was done. So it is entirely possible to find an even more accurate model with a little tuneing!!! "
   ]
  },
  {
   "cell_type": "markdown",
   "metadata": {},
   "source": []
  }
 ],
 "metadata": {
  "interpreter": {
   "hash": "dba8851dec06c95965c4b9acd8f4325acdb80444c005ae414d7a6bcd36173821"
  },
  "kernelspec": {
   "display_name": "Python 3.8.5 64-bit ('base': conda)",
   "name": "python3"
  },
  "language_info": {
   "codemirror_mode": {
    "name": "ipython",
    "version": 3
   },
   "file_extension": ".py",
   "mimetype": "text/x-python",
   "name": "python",
   "nbconvert_exporter": "python",
   "pygments_lexer": "ipython3",
   "version": "3.8.8"
  },
  "orig_nbformat": 4
 },
 "nbformat": 4,
 "nbformat_minor": 2
}